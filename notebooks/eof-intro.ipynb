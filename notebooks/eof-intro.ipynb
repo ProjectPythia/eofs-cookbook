{
 "cells": [
  {
   "cell_type": "markdown",
   "metadata": {},
   "source": [
    "# Introduction to EOFs"
   ]
  },
  {
   "cell_type": "markdown",
   "metadata": {},
   "source": [
    "<div class=\"admonition alert alert-info\">\n",
    "    <p class=\"admonition-title\" style=\"font-weight:bold\">Note</p>\n",
    "    This content is under construction.\n",
    "</div>"
   ]
  },
  {
   "cell_type": "markdown",
   "metadata": {},
   "source": [
    "---"
   ]
  },
  {
   "cell_type": "markdown",
   "metadata": {},
   "source": [
    "## Overview\n",
    "\n",
    "In this notebook, we will provide some background on empirical orthogonal functions (EOFs), develop some intuition, and cover the relevant mathematics."
   ]
  },
  {
   "cell_type": "markdown",
   "metadata": {},
   "source": [
    "## Prerequisites\n",
    "\n",
    "| Concepts | Importance | Notes |\n",
    "| --- | --- | --- |\n",
    "| Linear algebra | Necessary | |\n",
    "\n",
    "- **Time to learn**: 20 minutes"
   ]
  },
  {
   "cell_type": "markdown",
   "metadata": {},
   "source": [
    "---"
   ]
  },
  {
   "cell_type": "markdown",
   "metadata": {},
   "source": [
    "## Imports"
   ]
  },
  {
   "cell_type": "code",
   "execution_count": null,
   "metadata": {},
   "outputs": [],
   "source": [
    "import numpy"
   ]
  },
  {
   "cell_type": "markdown",
   "metadata": {},
   "source": [
    "## Introduction\n",
    "\n",
    "EOFs are commonly used to study the spatial and temporal variability of geophysical fields like sea surface temperature, sea level pressure, or geopotential height. Similar to how Fourier analysis allows us to decompose a time series into a sum of sinusoids of different frequencies, EOF analysis allows us to decompose a geophysical field into a set of mutually orthogonal spatial patterns and corresponding time series that are determined by the data (so, empirically). Terminology varies across texts, but here we will refer to the spatial patterns as \"EOFs\" and the time series as the \"principal components\" (PCs). \n",
    "\n",
    "Each EOF-PC pair can be thought of as a *mode of variability* in the data, but it is not necessary that these modes represent something physical. Each mode comes with a corresponding variance fraction that tells us how important the mode is. This is often phrased something like \"the first mode explains 25% of the variance in the data,\" and we will discuss what this means mathematically in the following sections. If a mode explains a large fraction of the total variance, it is more likely to be capturing some *physical* mode of variability, like the [El Niño Southern Oscillation (ENSO)](https://www.ncei.noaa.gov/access/monitoring/enso/) or [North Atlantic Oscillation (NAO)](https://www.ncei.noaa.gov/access/monitoring/nao/)."
   ]
  },
  {
   "cell_type": "markdown",
   "metadata": {},
   "source": [
    "## The method\n",
    "\n",
    "The steps required to compute EOFs and PCs are as follows:\n",
    "1. Organize your data into a 2-dimensional matrix $\\mathbf F$ and remove the mean from each time series\n",
    "1. Calculate the covariance matrix $\\mathbf R=\\mathbf F\\mathbf F^\\mathrm T$\n",
    "1. Find the eigenvectors (EOFs) $\\mathbf e_m\\in\\mathbf E$ and eigenvalues $\\lambda_m\\in\\mathbf\\Lambda$ of $\\mathbf R$ by solving $\\mathbf R\\mathbf E=\\mathbf\\Lambda\\mathbf E$\n",
    "1. Order the eigenectors by their eigenvalues, since the eigenvalues are proportional to the fraction of variance explained by that mode\n",
    "1. Calculate the PCs for each mode with $\\mathbf c_m=\\mathbf e_m^\\mathrm T\\cdot\\mathbf F$ (i.e. projecting your data onto each eigenvector/EOF)\n",
    "1. Find the variance fraction for each mode with $\\lambda_m\\Large/\\normalsize\\sum_i^M\\lambda_i$"
   ]
  },
  {
   "cell_type": "markdown",
   "metadata": {},
   "source": [
    "## Deriving the eigenvalue problem\n",
    "\n",
    "It is not obvious why solving the eigenvalue problem for the covariance matrix results in spatial patterns that align well with the data. The following explanation follows those given by Preisendorfer (1988), Peixoto et al. (1992), and Björnsson and Venegas (1997).\n",
    "\n",
    "Let $f(x, t)$ be a geophysical field recorded over locations $x_1, x_2, \\dots, x_M$ and times $t_1, t_2, \\dots, t_N$. In matrix notation, we can write each map of $M$ locations as the column vector $\\mathbf{f}_n=\\begin{bmatrix}f_{1n} & f_{2n} & \\cdots & f_{Mn}\\end{bmatrix}^\\mathrm T$, where $n=1, \\dots, N$. We then have an $M\\times N$ matrix that can be written as $\\mathbf F=\\begin{bmatrix}\\mathbf{f}_1 & \\mathbf{f}_2 & \\cdots & \\mathbf{f}_N\\end{bmatrix}$. \n",
    "\n",
    "Now, imagine that we only have three locations to collect data. Then each $\\mathbf{f}_n$ would be a 3-dimensional vector, and the whole set could be represented as a linear combination of three arbitrary basis vectors. This generalizes such that the vector space $\\mathbf F$ is spanned by an arbirary unit basis $\\{\\mathbf u_1,\\mathbf u_2,\\dots,\\mathbf u_M\\}$. It is very likely that some of the vectors $\\mathbf f_n$ are correlated as a result of some physical process. The goal of the EOF analysis is then to find an orthogonal unit basis $\\{\\mathbf e_1,\\mathbf e_2,\\dots,\\mathbf e_M\\}$ that aligns well with these vector \"clusters\". This is now an optimization problem. To maximize the alignment between the basis and observations, we will maximize the projection of the vectors $\\mathbf f_n$ onto each basis vector using the sum of squares:\n",
    "\\begin{equation}\n",
    "\\sum_{n=1}^N(\\mathbf f_n \\cdot \\mathbf e_m)^2\n",
    "\\end{equation}\n",
    "for $m=1, 2, \\dots, M$. We also require mutual orthonormality for the basis: $\\mathbf e_i\\cdot\\mathbf e_j=\\delta_{ij}$. Now, let's define this quantity as $\\psi(\\mathbf e_m)$:\n",
    "\\begin{equation}\n",
    "\\begin{aligned}\n",
    "\\psi(\\mathbf e_m)\\equiv\\sum_{n=1}^N(\\mathbf f_n \\cdot \\mathbf e_m)^2\n",
    "&=\\sum_{n=1}^N(\\mathbf e_m^\\mathrm T \\mathbf f_n)(\\mathbf f_n^\\mathrm T\\mathbf e_m)\\\\\n",
    "&=\\mathbf e_m^\\mathrm T \\sum_{n=1}^N(\\mathbf f_n\\mathbf f_n^\\mathrm T\\mathbf) e_m\\\\\n",
    "&=\\mathbf e_m^\\mathrm T \\mathbf F\\mathbf F^\\mathrm T\\mathbf e_m\\\\\n",
    "&=\\mathbf e_m^\\mathrm T \\mathbf R\\mathbf e_m\n",
    "\\end{aligned}\n",
    "\\end{equation}\n",
    "where $\\mathbf R=\\mathbf F\\mathbf F^\\mathrm T$ is the covariance matrix of $\\mathbf F$."
   ]
  },
  {
   "cell_type": "markdown",
   "metadata": {},
   "source": [
    "We now seek the extrema of $\\psi(\\mathbf e)$ (dropping the subscript $m$ for convenience), which satisfy $\\psi(\\mathbf e+\\delta\\mathbf e)=\\psi(\\mathbf e)$ for a small change $\\delta\\mathbf e$ in the direction of $\\mathbf e$. Then\n",
    "\\begin{equation}\n",
    "\\begin{aligned}\n",
    "\\psi(\\mathbf e+\\delta\\mathbf e)&=(\\mathbf e+\\delta\\mathbf e)^\\mathrm T\\mathbf R(\\mathbf e+\\delta\\mathbf e)\\\\\n",
    "&=\\mathbf e^\\mathrm T\\mathbf R\\mathbf e+2(\\delta\\mathbf e)^\\mathrm T\\mathbf R\\mathbf e + (\\delta\\mathbf e)^\\mathrm T\\mathbf R\\delta\\mathbf e\\\\\n",
    "&\\approx\\mathbf e^\\mathrm T\\mathbf R\\mathbf e+2(\\delta\\mathbf e)^\\mathrm T\\mathbf R\\mathbf e\\\\\n",
    "&=\\psi(\\mathbf e)+2(\\delta\\mathbf e)^\\mathrm T\\mathbf R\\mathbf e\n",
    "\\end{aligned}\n",
    "\\end{equation}\n",
    "where we only keep the terms first order in $\\delta\\mathbf e$. The optimization condition implies\n",
    "\\begin{equation}\n",
    "(\\delta\\mathbf e)^\\mathrm T\\mathbf R\\mathbf e=0\n",
    "\\end{equation}\n",
    "By the orthonormality of the basis, we also require that these variations only change the direction of $\\mathbf e$, so $(\\mathbf e+\\delta\\mathbf e)^\\mathrm T(\\mathbf e+\\delta\\mathbf e)=1\\Rightarrow(\\delta\\mathbf e)^\\mathrm T\\mathbf e=0$, again only keeping terms first order in $\\delta\\mathbf e$. We can combine these two conditions, provided that we multiply the orthonormality condition by a constant that has the same units as the entries of $\\mathbf R$:\n",
    "\\begin{equation}\n",
    "(\\delta\\mathbf e)^\\mathrm T\\mathbf R\\mathbf e-\\lambda(\\delta\\mathbf e)^\\mathrm T\\mathbf e=(\\delta\\mathbf e)^\\mathrm T[\\mathbf R\\mathbf e-\\lambda\\mathbf e]=0\n",
    "\\end{equation}\n",
    "Since $\\delta\\mathbf e$ is arbitrary, we must have $\\mathbf R\\mathbf e-\\lambda\\mathbf e=0$, the eigenvalue problem for $\\mathbf R$, or for nontrivial solutions, $|\\mathbf R-\\lambda\\mathbf I|=0$."
   ]
  },
  {
   "cell_type": "markdown",
   "metadata": {},
   "source": [
    "---"
   ]
  },
  {
   "cell_type": "markdown",
   "metadata": {},
   "source": [
    "## Summary\n",
    "In this notebook, we covered some background on EOFs, the steps required to carry out an EOF analysis, and some of the math behind the analysis.\n",
    "\n",
    "### What's next?\n",
    "An example of carrying out an EOF analysis on idealized data using NumPy."
   ]
  },
  {
   "cell_type": "markdown",
   "metadata": {},
   "source": [
    "## Resources and references\n",
    "\n",
    "Björnsson, H., & Venegas, S. A. (1997). A manual for EOF and SVD analyses of climatic data. *CCGCR Report*, *97*(1), 112-134.\n",
    "\n",
    "Peixoto, J. P., Oort, A. H., & Lorenz, E. N. (1992). *Physics of climate* (Vol. 520). New York: American Institute of Physics.\n",
    "\n",
    "Preisendorfer, R. Ä. N. Ü. (1988). Principal component analysis in meteorology and oceanography. *Elsevier Sci. Publ.*, *17*, 425."
   ]
  }
 ],
 "metadata": {
  "kernelspec": {
   "display_name": "Python 3 (ipykernel)",
   "language": "python",
   "name": "python3"
  },
  "language_info": {
   "codemirror_mode": {
    "name": "ipython",
    "version": 3
   },
   "file_extension": ".py",
   "mimetype": "text/x-python",
   "name": "python",
   "nbconvert_exporter": "python",
   "pygments_lexer": "ipython3",
   "version": "3.11.4"
  },
  "nbdime-conflicts": {
   "local_diff": [
    {
     "diff": [
      {
       "diff": [
        {
         "key": 0,
         "op": "addrange",
         "valuelist": [
          "Python 3"
         ]
        },
        {
         "key": 0,
         "length": 1,
         "op": "removerange"
        }
       ],
       "key": "display_name",
       "op": "patch"
      }
     ],
     "key": "kernelspec",
     "op": "patch"
    }
   ],
   "remote_diff": [
    {
     "diff": [
      {
       "diff": [
        {
         "key": 0,
         "op": "addrange",
         "valuelist": [
          "Python3"
         ]
        },
        {
         "key": 0,
         "length": 1,
         "op": "removerange"
        }
       ],
       "key": "display_name",
       "op": "patch"
      }
     ],
     "key": "kernelspec",
     "op": "patch"
    }
   ]
  },
  "toc-autonumbering": false
 },
 "nbformat": 4,
 "nbformat_minor": 4
}

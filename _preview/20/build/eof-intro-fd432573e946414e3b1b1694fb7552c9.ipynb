{
 "cells": [
  {
   "cell_type": "markdown",
   "metadata": {},
   "source": [
    "# Introduction to EOFs"
   ]
  },
  {
   "cell_type": "markdown",
   "metadata": {},
   "source": [
    "---"
   ]
  },
  {
   "cell_type": "markdown",
   "metadata": {},
   "source": [
    "## Overview\n",
    "\n",
    "In this notebook, we will provide some background on empirical orthogonal functions (EOFs), develop some intuition, and cover the relevant mathematics."
   ]
  },
  {
   "cell_type": "markdown",
   "metadata": {},
   "source": [
    "## Prerequisites\n",
    "\n",
    "| Concepts | Importance | Notes |\n",
    "| --- | --- | --- |\n",
    "| Linear algebra | Necessary | |\n",
    "\n",
    "- **Time to learn**: 20 minutes"
   ]
  },
  {
   "cell_type": "markdown",
   "metadata": {},
   "source": [
    "---"
   ]
  },
  {
   "cell_type": "markdown",
   "metadata": {},
   "source": [
    "## Imports"
   ]
  },
  {
   "cell_type": "markdown",
   "metadata": {},
   "source": [
    "N/A"
   ]
  },
  {
   "cell_type": "markdown",
   "metadata": {},
   "source": [
    "## Introduction\n",
    "\n",
    "EOFs are commonly used to study the spatial and temporal variability of geophysical fields like sea surface temperature, sea level pressure, or geopotential height. Similar to how Fourier analysis allows us to decompose a time series into a sum of sinusoids of different frequencies, EOF analysis allows us to decompose a geophysical field into a set of mutually orthogonal spatial patterns and corresponding time series that are determined by the data (so, empirically). Terminology varies across texts, but here we will refer to the spatial patterns as \"EOFs\" and the time series as the \"principal components\" (PCs). \n",
    "\n",
    "Each EOF-PC pair can be thought of as a *mode of variability* in the data, but it is not necessary that these modes represent something physical. Each mode comes with a corresponding variance fraction that tells us how important the mode is. This is often phrased something like \"the first mode explains 25% of the variance in the data,\" and we will discuss what this means mathematically in the following sections. If a mode explains a large fraction of the total variance, it is more likely to be capturing some *physical* mode of variability, like the [El Niño Southern Oscillation (ENSO)](https://www.ncei.noaa.gov/access/monitoring/enso/) or [North Atlantic Oscillation (NAO)](https://www.ncei.noaa.gov/access/monitoring/nao/)."
   ]
  },
  {
   "cell_type": "markdown",
   "metadata": {},
   "source": [
    "## Examples of use\n",
    "\n",
    "EOF analysis (also called principal component analysis, PCA) has been applied to meteorological and oceanographic data since the 1940s and 1970s, respectively {cite:p}`Preisendorfer:1988a`. Here are a few examples of its use:\n",
    "\n",
    "### Identifying climate modes: the Pacific Decadal Oscillation\n",
    "\n",
    "The Pacific Decadal Oscillation (PDO) is a mode of climate variability characterized by decadal-scale sea surface temperature (SST) anomalies in the North Pacific. As typically defined, the positive/warm phase of PDO occurs when the SSTs off the west coast of North America are anomalously warm and the eastern/interior North Pacific is anomalously cold (and vice versa for the negative/cold phase). Since its identification and naming in the 1990s, PDO has been defined as the leading (i.e., first) EOF in North Pacific SST anomalies {cite:p}`Mantua:2002a`. This is the same definition used by [NOAA in their PDO index](https://www.ncei.noaa.gov/access/monitoring/pdo/).\n",
    "\n",
    "| ![PDO](images/mantua_hare_1.PNG) |\n",
    "|:--:|\n",
    "| Adapted from {cite:t}`Mantua:2002a`. The three plots on the top show the EOFs for SST, sea level pressure, and surface wind stress, while the time series at the bottom is the associated PC. |\n",
    "\n",
    "Besides the modes of variability already mentioned, an EOF analysis can also be used to identify the Northern and Southern Annular Modes (NAM and SAM), the Atlantic Multidecadal Oscillation/Variability (AMO/V), the zonal wave 3 pattern (ZW3) of both hemispheres, and others.\n",
    "\n",
    "### Identifying patterns across an ensemble\n",
    "\n",
    "While an EOF analysis is usually applied to data that is a function of space and time, it can also be used with data that is a function of space and *ensemble member*. Then the analysis may be able to identify the most important patterns that characterize the differences between ensemble members. {cite:t}`Tokinaga:2012a` perform an EOF analysis on an ensemble of 100 realizations of observed SSTs in order to understand the uncertainty in the zonal SST gradient in the tropical Pacific.\n",
    "\n",
    "| ![Pacific EOF](images/tokinaga_eof.PNG)![Pacific PC vs. SST gradient](images/tokinaga_pcs.PNG) |\n",
    "|:--:|\n",
    "| Adapted from {cite:t}`Tokinaga:2012a`. The left plot shows the leading EOF (with 83.6% variance fraction) of tropical Pacific SST across 100 realizations of observed SSTs. The right plot shows the PC (in this case, a single value instead of a time series) associated with the EOF plotted against the zonal SST gradient in the tropical Pacific for each ensemble member. |\n",
    "\n",
    "### Isolating the global warming signal\n",
    "\n",
    "To isolate the global warming signal from internal variability, it is common to run a climate model multiple times&mdash;with the same anthropogenic emissions and slightly different initial conditions&mdash;and take the average response across the ensemble. With enough ensemble members, the internal variability should mostly cancel out, identifying the ensemble average with the model's response to the emissions. Unfortunately, we cannot use this method on Earth's actual climate, which only has one realization. As you will see in [Finding Climate Modes with EOFs](climate-modes-xeofs), the long-term warming trend will be apparent in an EOF analysis of observed SSTs if the data is not detrended, but it is not cleanly separated from internal variability. {cite:t}`Wills:2018a` develop a method, which they call low-frequency component analysis (LFCA), that can more cleanly separate out the warming trend. After perfoming an EOF analysis, their method finds a linear combination of the EOFs that maximizes the variance fraction at low frequencies (see their paper for more details).\n",
    "\n",
    "| ![LFCA](images/wills_1.PNG) |\n",
    "|:--:|\n",
    "| Adapted from {cite:t}`Wills:2018a`. Three leading low frequency patterns (LFPs, similar to EOFs) and their corresponding low frequency components (LFCs, similar to PCs) for Pacific SST anomalies. This method is able to separate the global warming trend from PDO and ENSO. |"
   ]
  },
  {
   "cell_type": "markdown",
   "metadata": {},
   "source": [
    "## The method\n",
    "\n",
    "The steps required to compute EOFs and PCs are as follows:\n",
    "1. Organize your data into a 2-dimensional matrix $\\mathbf F$ and remove the mean from each time series\n",
    "1. Calculate the covariance matrix $\\mathbf R=\\mathbf F\\mathbf F^\\mathrm T$\n",
    "1. Find the eigenvectors (EOFs) $\\mathbf e_m\\in\\mathbf E$ and eigenvalues $\\lambda_m\\in\\mathbf\\Lambda$ of $\\mathbf R$ by solving $\\mathbf R\\mathbf E=\\mathbf\\Lambda\\mathbf E$\n",
    "1. Order the eigenvectors by their eigenvalues, since the eigenvalues are proportional to the fraction of variance explained by that mode\n",
    "1. Calculate the PCs for each mode with $\\mathbf c_m=\\mathbf e_m^\\mathrm T\\cdot\\mathbf F$ (i.e. projecting your data onto each eigenvector/EOF)\n",
    "1. Find the variance fraction for each mode with $\\lambda_m\\Large/\\normalsize\\sum_i^M\\lambda_i$"
   ]
  },
  {
   "cell_type": "markdown",
   "metadata": {},
   "source": [
    "## Deriving the eigenvalue problem\n",
    "\n",
    "As an aside, it is not obvious why solving the eigenvalue problem for the covariance matrix results in spatial patterns that align well with the data. The following explanation follows those given by {cite:t}`Preisendorfer:1988a`, {cite:t}`physicsofclimate`, and {cite:t}`Bjornsson:1997a`.\n",
    "\n",
    "Let $f(x, t)$ be a geophysical field recorded over locations $x_1, x_2, \\dots, x_M$ and times $t_1, t_2, \\dots, t_N$. In matrix notation, we can write each map of $M$ locations as the column vector $\\mathbf{f}_n=\\begin{bmatrix}f_{1n} & f_{2n} & \\cdots & f_{Mn}\\end{bmatrix}^\\mathrm T$, where $n=1, \\dots, N$. We then have an $M\\times N$ matrix that can be written as $\\mathbf F=\\begin{bmatrix}\\mathbf{f}_1 & \\mathbf{f}_2 & \\cdots & \\mathbf{f}_N\\end{bmatrix}$. \n",
    "\n",
    "Now, imagine that we only have three locations to collect data. Then each $\\mathbf{f}_n$ would be a 3-dimensional vector, and the whole set could be represented as a linear combination of three arbitrary basis vectors. This generalizes such that the vector space $\\mathbf F$ is spanned by an arbirary unit basis $\\{\\mathbf u_1,\\mathbf u_2,\\dots,\\mathbf u_M\\}$. It is very likely that some of the vectors $\\mathbf f_n$ are correlated as a result of some physical process. The goal of the EOF analysis is then to find an orthogonal unit basis $\\{\\mathbf e_1,\\mathbf e_2,\\dots,\\mathbf e_M\\}$ that aligns well with these vector \"clusters\". \n",
    "\n",
    "| ![EOF clustering](images/peixoto_b1.PNG) |\n",
    "|:--:|\n",
    "| Adapted from {cite:t}`physicsofclimate`. |\n",
    "\n",
    "This is now an optimization problem. To maximize the alignment between the basis and observations, we will maximize the projection of the vectors $\\mathbf f_n$ onto each basis vector using the sum of squares:\n",
    "\\begin{equation}\n",
    "\\sum_{n=1}^N(\\mathbf f_n \\cdot \\mathbf e_m)^2\n",
    "\\end{equation}\n",
    "for $m=1, 2, \\dots, M$. We also require mutual orthonormality for the basis: $\\mathbf e_i\\cdot\\mathbf e_j=\\delta_{ij}$. Now, let's define this quantity as $\\psi(\\mathbf e_m)$:\n",
    "\\begin{equation}\n",
    "\\begin{aligned}\n",
    "\\psi(\\mathbf e_m)\\equiv\\sum_{n=1}^N(\\mathbf f_n \\cdot \\mathbf e_m)^2\n",
    "&=\\sum_{n=1}^N(\\mathbf e_m^\\mathrm T \\mathbf f_n)(\\mathbf f_n^\\mathrm T\\mathbf e_m)\\\\\n",
    "&=\\mathbf e_m^\\mathrm T \\sum_{n=1}^N(\\mathbf f_n\\mathbf f_n^\\mathrm T\\mathbf) e_m\\\\\n",
    "&=\\mathbf e_m^\\mathrm T \\mathbf F\\mathbf F^\\mathrm T\\mathbf e_m\\\\\n",
    "&=\\mathbf e_m^\\mathrm T \\mathbf R\\mathbf e_m\n",
    "\\end{aligned}\n",
    "\\end{equation}\n",
    "where $\\mathbf R=\\mathbf F\\mathbf F^\\mathrm T$ is the covariance matrix of $\\mathbf F$.\n",
    "\n",
    "We now seek the extrema of $\\psi(\\mathbf e)$ (dropping the subscript $m$ for convenience), which satisfy $\\psi(\\mathbf e+\\delta\\mathbf e)=\\psi(\\mathbf e)$ for a small change $\\delta\\mathbf e$ in the direction of $\\mathbf e$. Then\n",
    "\\begin{equation}\n",
    "\\begin{aligned}\n",
    "\\psi(\\mathbf e+\\delta\\mathbf e)&=(\\mathbf e+\\delta\\mathbf e)^\\mathrm T\\mathbf R(\\mathbf e+\\delta\\mathbf e)\\\\\n",
    "&=\\mathbf e^\\mathrm T\\mathbf R\\mathbf e+2(\\delta\\mathbf e)^\\mathrm T\\mathbf R\\mathbf e + (\\delta\\mathbf e)^\\mathrm T\\mathbf R\\delta\\mathbf e\\\\\n",
    "&\\approx\\mathbf e^\\mathrm T\\mathbf R\\mathbf e+2(\\delta\\mathbf e)^\\mathrm T\\mathbf R\\mathbf e\\\\\n",
    "&=\\psi(\\mathbf e)+2(\\delta\\mathbf e)^\\mathrm T\\mathbf R\\mathbf e\n",
    "\\end{aligned}\n",
    "\\end{equation}\n",
    "where we only keep the terms first order in $\\delta\\mathbf e$. The optimization condition implies\n",
    "\\begin{equation}\n",
    "(\\delta\\mathbf e)^\\mathrm T\\mathbf R\\mathbf e=0\n",
    "\\end{equation}\n",
    "By the orthonormality of the basis, we also require that these variations only change the direction of $\\mathbf e$, so $(\\mathbf e+\\delta\\mathbf e)^\\mathrm T(\\mathbf e+\\delta\\mathbf e)=1\\Rightarrow(\\delta\\mathbf e)^\\mathrm T\\mathbf e=0$, again only keeping terms first order in $\\delta\\mathbf e$. We can combine these two conditions, provided that we multiply the orthonormality condition by a constant that has the same units as the entries of $\\mathbf R$:\n",
    "\\begin{equation}\n",
    "(\\delta\\mathbf e)^\\mathrm T\\mathbf R\\mathbf e-\\lambda(\\delta\\mathbf e)^\\mathrm T\\mathbf e=(\\delta\\mathbf e)^\\mathrm T[\\mathbf R\\mathbf e-\\lambda\\mathbf e]=0\n",
    "\\end{equation}\n",
    "Since $\\delta\\mathbf e$ is arbitrary, we must have $\\mathbf R\\mathbf e-\\lambda\\mathbf e=0$, the eigenvalue problem for $\\mathbf R$, or for nontrivial solutions, $|\\mathbf R-\\lambda\\mathbf I|=0$."
   ]
  },
  {
   "cell_type": "markdown",
   "metadata": {},
   "source": [
    "---"
   ]
  },
  {
   "cell_type": "markdown",
   "metadata": {},
   "source": [
    "## Summary\n",
    "In this notebook, we covered some background on EOFs, the steps required to carry out an EOF analysis, and some of the math behind the analysis.\n",
    "\n",
    "### What's next?\n",
    "In the next notebook, we will use a package called [xeofs](https://xeofs.readthedocs.io/) to find climate modes in SST data."
   ]
  }
 ],
 "metadata": {
  "kernelspec": {
   "display_name": "Python 3 (ipykernel)",
   "language": "python",
   "name": "python3"
  },
  "language_info": {
   "codemirror_mode": {
    "name": "ipython",
    "version": 3
   },
   "file_extension": ".py",
   "mimetype": "text/x-python",
   "name": "python",
   "nbconvert_exporter": "python",
   "pygments_lexer": "ipython3",
   "version": "3.11.9"
  },
  "nbdime-conflicts": {
   "local_diff": [
    {
     "diff": [
      {
       "diff": [
        {
         "key": 0,
         "op": "addrange",
         "valuelist": [
          "Python 3"
         ]
        },
        {
         "key": 0,
         "length": 1,
         "op": "removerange"
        }
       ],
       "key": "display_name",
       "op": "patch"
      }
     ],
     "key": "kernelspec",
     "op": "patch"
    }
   ],
   "remote_diff": [
    {
     "diff": [
      {
       "diff": [
        {
         "key": 0,
         "op": "addrange",
         "valuelist": [
          "Python3"
         ]
        },
        {
         "key": 0,
         "length": 1,
         "op": "removerange"
        }
       ],
       "key": "display_name",
       "op": "patch"
      }
     ],
     "key": "kernelspec",
     "op": "patch"
    }
   ]
  },
  "toc-autonumbering": false
 },
 "nbformat": 4,
 "nbformat_minor": 4
}
